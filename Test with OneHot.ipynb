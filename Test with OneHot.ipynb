{
 "cells": [
  {
   "cell_type": "code",
   "execution_count": 1,
   "id": "6d3b1da7",
   "metadata": {},
   "outputs": [],
   "source": [
    "import pandas as pd\n",
    "from sklearn.model_selection import train_test_split\n",
    "from sklearn.preprocessing import OneHotEncoder, StandardScaler\n",
    "from sklearn.compose import ColumnTransformer\n",
    "from sklearn.pipeline import Pipeline\n",
    "from sklearn.metrics import classification_report, accuracy_score\n",
    "from sklearn.ensemble import RandomForestClassifier\n",
    "\n",
    "# 1. Daten laden\n",
    "df = pd.read_csv(\"train.csv\")\n",
    "\n",
    "# 2. Zielvariable extrahieren und Merkmale vorbereiten\n",
    "X = df.drop([\"id\", \"Fertilizer Name\"], axis=1)\n",
    "y = df[\"Fertilizer Name\"]\n",
    "\n",
    "# 3. Kategorische & numerische Features erkennen\n",
    "categorical_features = [\"Soil Type\", \"Crop Type\"]\n",
    "numerical_features = [\"Temparature\", \"Humidity\", \"Moisture\", \"Nitrogen\", \"Potassium\", \"Phosphorous\"]\n",
    "\n",
    "# 4. Vorverarbeitung definieren\n",
    "preprocessor = ColumnTransformer([\n",
    "    (\"onehot\", OneHotEncoder(handle_unknown=\"ignore\"), categorical_features),\n",
    "    (\"scale\", StandardScaler(), numerical_features)\n",
    "])\n",
    "\n",
    "# 5. XGBoost-Pipeline aufbauen\n",
    "pipeline = Pipeline([\n",
    "    (\"preprocessor\", preprocessor),\n",
    "    (\"classifier\", RandomForestClassifier(n_estimators=100, random_state=42)\n",
    ")\n",
    "])\n"
   ]
  },
  {
   "cell_type": "code",
   "execution_count": 2,
   "id": "1966e715",
   "metadata": {},
   "outputs": [],
   "source": [
    "# 6. Daten aufteilen\n",
    "X_train, X_test, y_train, y_test = train_test_split(X, y, test_size=0.2, random_state=42)\n",
    "\n",
    "# 7. Modell trainieren\n",
    "pipeline.fit(X_train, y_train)\n",
    "\n",
    "# 8. Vorhersage und Evaluation\n",
    "y_pred = pipeline.predict(X_test)\n",
    "acc = accuracy_score(y_test, y_pred)\n"
   ]
  },
  {
   "cell_type": "code",
   "execution_count": 3,
   "id": "b930b91d",
   "metadata": {},
   "outputs": [
    {
     "name": "stdout",
     "output_type": "stream",
     "text": [
      "OneHot Features: ['Soil Type_Black' 'Soil Type_Clayey' 'Soil Type_Loamy' 'Soil Type_Red'\n",
      " 'Soil Type_Sandy' 'Crop Type_Barley' 'Crop Type_Cotton'\n",
      " 'Crop Type_Ground Nuts' 'Crop Type_Maize' 'Crop Type_Millets'\n",
      " 'Crop Type_Oil seeds' 'Crop Type_Paddy' 'Crop Type_Pulses'\n",
      " 'Crop Type_Sugarcane' 'Crop Type_Tobacco' 'Crop Type_Wheat']\n",
      "\n",
      "Accuracy: 0.16465\n",
      "\n",
      "Classification Report:\n",
      "              precision    recall  f1-score   support\n",
      "\n",
      "    10-26-26       0.17      0.20      0.18     22841\n",
      "    14-35-14       0.17      0.20      0.18     22639\n",
      "    17-17-17       0.18      0.19      0.19     22764\n",
      "       20-20       0.16      0.17      0.17     22010\n",
      "       28-28       0.16      0.16      0.16     22384\n",
      "         DAP       0.15      0.11      0.13     19148\n",
      "        Urea       0.14      0.10      0.12     18214\n",
      "\n",
      "    accuracy                           0.16    150000\n",
      "   macro avg       0.16      0.16      0.16    150000\n",
      "weighted avg       0.16      0.16      0.16    150000\n",
      "\n"
     ]
    }
   ],
   "source": [
    "ohe = pipeline.named_steps['preprocessor'].named_transformers_['onehot']\n",
    "ohe_features = ohe.get_feature_names_out(categorical_features)\n",
    "print(\"OneHot Features:\", ohe_features)\n",
    "\n",
    "print(f\"\\nAccuracy: {acc:.5f}\")\n",
    "print(\"\\nClassification Report:\")\n",
    "print(classification_report(y_test, y_pred))"
   ]
  }
 ],
 "metadata": {
  "kernelspec": {
   "display_name": "base",
   "language": "python",
   "name": "python3"
  },
  "language_info": {
   "codemirror_mode": {
    "name": "ipython",
    "version": 3
   },
   "file_extension": ".py",
   "mimetype": "text/x-python",
   "name": "python",
   "nbconvert_exporter": "python",
   "pygments_lexer": "ipython3",
   "version": "3.13.5"
  }
 },
 "nbformat": 4,
 "nbformat_minor": 5
}
